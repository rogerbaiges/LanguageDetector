{
 "cells": [
  {
   "cell_type": "markdown",
   "metadata": {},
   "source": [
    "# Language detector\n",
    "\n",
    "**Participants:**\n",
    "- Roger Baiges\n",
    "- Adrià Cantarero\n",
    "\n",
    "**Subject:**\n",
    "- Processament del Llenguatge Humà\n",
    "\n",
    "**Course:** 2024\n",
    "\n",
    "**Degree:** Intel·ligència Artificial\n"
   ]
  },
  {
   "cell_type": "markdown",
   "metadata": {},
   "source": [
    "## IMPORTS"
   ]
  },
  {
   "cell_type": "code",
   "execution_count": 20,
   "metadata": {},
   "outputs": [],
   "source": [
    "import re\n",
    "import os\n",
    "import glob\n",
    "from collections import Counter\n",
    "from sklearn.metrics import accuracy_score, confusion_matrix, f1_score, precision_score\n",
    "from nltk import ngrams\n",
    "import matplotlib.pyplot as plt\n",
    "import seaborn as sns\n",
    "from sklearn.metrics import confusion_matrix\n",
    "import numpy as np"
   ]
  },
  {
   "cell_type": "markdown",
   "metadata": {},
   "source": [
    "## 1. BASIC PREPROCESSING FUNCTIONS"
   ]
  },
  {
   "cell_type": "code",
   "execution_count": 21,
   "metadata": {},
   "outputs": [],
   "source": [
    "def preprocess_text(text):\n",
    "    text = re.sub(r'\\d+', '', text)  # Delete numbers\n",
    "    text = text.lower()  # Lowercase\n",
    "    text = re.sub(r'\\s+', ' ', text)  # Delete multiple spaces\n",
    "    text = re.sub(r'\\n', '  ', text)  # Doble space for new line  \n",
    "    return text"
   ]
  },
  {
   "cell_type": "code",
   "execution_count": 22,
   "metadata": {},
   "outputs": [],
   "source": [
    "# Function to create trigrams given a text\n",
    "\n",
    "def create_trigrams(text):\n",
    "    characters = [char for char in text]\n",
    "    return [''.join(trigram) for trigram in ngrams(characters, 3) if len(trigram) == 3]"
   ]
  },
  {
   "cell_type": "markdown",
   "metadata": {},
   "source": [
    "## 2. READING THE DATA FUNCTIONS"
   ]
  },
  {
   "cell_type": "code",
   "execution_count": 24,
   "metadata": {},
   "outputs": [],
   "source": [
    "import random\n",
    "\n",
    "# Function to load the training and validation data from the files\n",
    "\n",
    "def load_data_train_val(filenames):\n",
    "    train_data = {}\n",
    "    val_data = {}\n",
    "\n",
    "    for file in filenames:\n",
    "        with open(file, 'r', encoding='utf-8') as f:\n",
    "            text = preprocess_text(f.read())\n",
    "            sentences = text.split('  ')\n",
    "            trigrams = create_trigrams(text)\n",
    "            filename = os.path.basename(file).split('_')[0]\n",
    "            train_data[filename] = trigrams.copy()\n",
    "\n",
    "            # Randomly select 30% of the sentences for validation\n",
    "            random.shuffle(sentences)\n",
    "            split_index = int(len(sentences) * 0.3)\n",
    "            val_sentences = sentences[:split_index]\n",
    "            val_trigrams = create_trigrams(' '.join(val_sentences))\n",
    "            val_data[filename] = val_trigrams\n",
    "\n",
    "    return train_data, val_data\n",
    "\n",
    "\n",
    "# Function to load the test data from the files\n",
    "\n",
    "def load_data_test(filenames):\n",
    "    texts = []\n",
    "    labels = []\n",
    "    for file in filenames:\n",
    "        label = os.path.basename(file).split('_')[0]  # The tag is the first part of the filename\n",
    "        with open(file, 'r', encoding='utf-8') as f:\n",
    "            for line in f:\n",
    "                texts.append(line.strip())\n",
    "                labels.append(label)\n",
    "    return texts, labels\n"
   ]
  },
  {
   "cell_type": "code",
   "execution_count": 25,
   "metadata": {},
   "outputs": [],
   "source": [
    "# Directory with the data files\n",
    "train_files = glob.glob('langId/*_trn.txt')\n",
    "test_files = glob.glob('langId/*_tst.txt')\n",
    "\n",
    "# Load and store the data\n",
    "train_data, val_data = load_data_train_val(train_files)\n",
    "X_test, y_test = load_data_test(test_files)"
   ]
  },
  {
   "cell_type": "markdown",
   "metadata": {},
   "source": [
    "## 3. FILTERING THE INFREQUENT TRIGRAMS"
   ]
  },
  {
   "cell_type": "code",
   "execution_count": 26,
   "metadata": {},
   "outputs": [],
   "source": [
    "# Function to filter the infrequent trigrams (appear less than 5 times in a language)\n",
    "\n",
    "def filter_infrequent_trigramsDICT(list_trigrams):\n",
    "    # Count the frequency of each trigram in the list\n",
    "    trigram_counts = Counter(list_trigrams)\n",
    "    \n",
    "    # Select the trigrams that appear at least 5 times\n",
    "    frequent_trigrams = {trigram for trigram, count in trigram_counts.items() if count >= 5}\n",
    "    \n",
    "    # Filter the list of trigrams to include only the frequent trigrams\n",
    "    filtered_list_trigrams = [trigram for trigram in list_trigrams if trigram in frequent_trigrams]\n",
    "    \n",
    "    return filtered_list_trigrams\n"
   ]
  },
  {
   "cell_type": "code",
   "execution_count": 27,
   "metadata": {},
   "outputs": [],
   "source": [
    "for key in train_data:\n",
    "    # Filter the infrequent trigrams\n",
    "    train_data[key] = filter_infrequent_trigramsDICT(train_data[key])\n",
    "    val_data[key] = filter_infrequent_trigramsDICT(val_data[key])"
   ]
  },
  {
   "cell_type": "markdown",
   "metadata": {},
   "source": [
    "## 4. COUNTING THE TRIGRAMS"
   ]
  },
  {
   "cell_type": "code",
   "execution_count": 28,
   "metadata": {},
   "outputs": [],
   "source": [
    "# Function that returns the number of trigrams that appear in a list of trigrams\n",
    "def count_trigrams(trigram, list_trigrams):\n",
    "    freq_trigram = {}\n",
    "    for t in list_trigrams:\n",
    "        freq_trigram[t] = freq_trigram.get(t, 0) + 1\n",
    "    return freq_trigram.get(trigram, 0)\n",
    "\n",
    "# Create a dictionary with the number of trigrams and the number of possible trigrams for each language (NT and B)\n",
    "info_lang = {}\n",
    "for lang, trigrams in train_data.items():\n",
    "    NT = len(trigrams)\n",
    "    B = 30**3\n",
    "    info_lang[lang] = {'NT': NT, 'B': B}"
   ]
  },
  {
   "cell_type": "markdown",
   "metadata": {},
   "source": [
    "## 5. LID FUNCTION AND NORMALIZING THE PROBABILITIES"
   ]
  },
  {
   "cell_type": "code",
   "execution_count": 29,
   "metadata": {},
   "outputs": [],
   "source": [
    "# LID function\n",
    "\n",
    "def LID(count_trigram, NT, B, lam=0.5):\n",
    "    result_LID = np.log((count_trigram + lam) / (NT + lam * B))\n",
    "    return result_LID\n"
   ]
  },
  {
   "cell_type": "code",
   "execution_count": 30,
   "metadata": {},
   "outputs": [],
   "source": [
    "# Function to normalize values between 0 and 1 (min-max normalization used to understand the results better)\n",
    "\n",
    "def min_max_normalization(data):\n",
    "    min_val = min(data.values())\n",
    "    max_val = max(data.values())\n",
    "    normalized_data = {}\n",
    "\n",
    "    for key, value in data.items():\n",
    "        normalized_value = (value - min_val) / (max_val - min_val)\n",
    "        normalized_data[key] = normalized_value\n",
    "\n",
    "    return normalized_data"
   ]
  },
  {
   "cell_type": "markdown",
   "metadata": {},
   "source": [
    "## 6. CREATING A DICTIONARY OF PROBABILITIES"
   ]
  },
  {
   "cell_type": "code",
   "execution_count": 31,
   "metadata": {},
   "outputs": [],
   "source": [
    "# Function to create a dictionary of the probabilites of each trigram for each language\n",
    "\n",
    "def create_probability_dict(data, lam=0.5):\n",
    "\n",
    "    trigram_counts = {}  # Create an empty dictionary to store trigram counts\n",
    "\n",
    "    # Iterate over each language and its trigram list in the data dictionary\n",
    "    for lang, lang_trigrams in data.items():\n",
    "        # Iterate over each trigram in the language's trigram list\n",
    "        for trigram in lang_trigrams:\n",
    "            # If the trigram is not in the trigram counts dictionary, add it\n",
    "            if trigram not in trigram_counts:\n",
    "                trigram_counts[trigram] = {'deu': 0, 'eng': 0, 'fra': 0, 'ita': 0, 'nld': 0, 'spa': 0}\n",
    "            # Increment the count of the trigram for the current language\n",
    "            trigram_counts[trigram][lang] += 1          \n",
    "\n",
    "    trigram_LID = {}  # Create an empty dictionary to store trigram LID values\n",
    "\n",
    "    # Iterate over each trigram and its language counts in the trigram counts dictionary and calculate the LID\n",
    "    for trigram, lang_counts in trigram_counts.items():\n",
    "        trigram_lang_LID = {}\n",
    "        for lang, count in lang_counts.items():\n",
    "            trigram_lang_LID[lang] = LID(count, info_lang[lang]['NT'], info_lang[lang]['B'], lam)\n",
    "        trigram_LID[trigram] = trigram_lang_LID\n",
    "\n",
    "    return trigram_LID\n"
   ]
  },
  {
   "cell_type": "markdown",
   "metadata": {},
   "source": [
    "## 7. FUNCTIONS TO PREDICT AND EVALUATE THE RESULTS"
   ]
  },
  {
   "cell_type": "code",
   "execution_count": 32,
   "metadata": {},
   "outputs": [],
   "source": [
    "# Function that, given a text, returns the LID for each language: {'language1': LID, 'language2': LID, ...}. To do this, we sum the LID of each trigram in the text for each language\n",
    "\n",
    "def predict_language(text, trigram_LID, lam=0.5):\n",
    "    treated_text = preprocess_text(text)  # Preprocess the text\n",
    "    trigrams_text = create_trigrams(treated_text) # Create the trigrams of the text\n",
    "    LID_per_lang = {}\n",
    "    for trigram in trigrams_text:\n",
    "        if trigram in trigram_LID:\n",
    "            LID_per_lang_trigram = trigram_LID[trigram] # Obtain the LID of the trigram for each language\n",
    "\n",
    "        else:\n",
    "            # If the trigram is not in the trigram_LID dictionary, we assign a LID of 0 for each language\n",
    "            LID_per_lang_trigram = {}\n",
    "            for lang in info_lang:\n",
    "                LID_per_lang_trigram[lang] = LID(0, info_lang[lang]['NT'], info_lang[lang]['B'], lam)\n",
    "\n",
    "        for lang, LID_trigram in LID_per_lang_trigram.items(): \n",
    "            LID_per_lang[lang] = LID_per_lang.get(lang, 0) + LID_trigram # Sum the LID of the trigram to the total LID of the text for each language\n",
    "    normalized_LID_per_lang = min_max_normalization(LID_per_lang)  # Normalize the LID values\n",
    "    max_language = max(normalized_LID_per_lang, key=normalized_LID_per_lang.get)  # Obtain the language with the maximum LID\n",
    "\n",
    "    return normalized_LID_per_lang, max_language"
   ]
  },
  {
   "cell_type": "code",
   "execution_count": 34,
   "metadata": {},
   "outputs": [],
   "source": [
    "# Function to evaluate the results of the LID system by comparing the predicted languages with the actual languages\n",
    "\n",
    "def evaluate_results(X_test, y_test, trigram_LID, lam=0.5, show_missclassified=False):\n",
    "    y_pred = []\n",
    "    for sentence, actual_lang in zip(X_test, y_test):\n",
    "        _, lang = predict_language(sentence, trigram_LID, lam)\n",
    "        y_pred.append(lang)\n",
    "        if show_missclassified and lang != actual_lang:\n",
    "            print(f\"Misclassified sentence: {sentence}\")\n",
    "            print(f\"Predicted language: {lang}\")\n",
    "            print(f\"Actual language: {actual_lang}\")\n",
    "            print(\"---\")\n",
    "    accuracy = accuracy_score(y_test, y_pred)\n",
    "    precision = precision_score(y_test, y_pred, average=None)\n",
    "    f1 = f1_score(y_test, y_pred, average='weighted')\n",
    "    conf_matrix = confusion_matrix(y_test, y_pred)\n",
    "    return accuracy, precision, f1, conf_matrix"
   ]
  },
  {
   "cell_type": "markdown",
   "metadata": {},
   "source": [
    "## 8. VALIDATION\n",
    "IN ORDER TO FIND THE VALUES OF THE DIFFERENT HYPERPARAMETERS WE'VE RANDOM SELECTED 30% OF THE TRIANING SENTENCES IN ORDEER TO FIND THE BEST VALUES AND FINALLY TRAIN WITH WHE WHOLE TRAIN SET"
   ]
  },
  {
   "cell_type": "code",
   "execution_count": 35,
   "metadata": {},
   "outputs": [
    {
     "name": "stdout",
     "output_type": "stream",
     "text": [
      "Best lambda: (1, 35937) with F1 score: 0.9989162728065941\n"
     ]
    }
   ],
   "source": [
    "lambdas = [0.1, 0.3, 0.5, 0.7, 1]\n",
    "Bs = [25**3, 26**3, 27**3, 30**3, 33**3]\n",
    "best_hyper = (lambdas[0], Bs[0])\n",
    "best_f1_score = 0\n",
    "\n",
    "# Iterate over the different hyperparameters to find the best combination\n",
    "\n",
    "for lam in lambdas:\n",
    "    for B in Bs:\n",
    "        for lang in info_lang:\n",
    "            info_lang[lang]['B'] = B\n",
    "        val_trigram_LID = create_probability_dict(train_data, lam)\n",
    "        accuracy, precision, f1, conf_matrix = evaluate_results(X_test, y_test, val_trigram_LID, lam)\n",
    "        if f1 >= best_f1_score:\n",
    "            best_f1_score = f1\n",
    "            best_hyper = (lam, B)\n",
    "\n",
    "best_lambda = best_hyper[0]\n",
    "best_B = best_hyper[1]\n",
    "\n",
    "for lang in info_lang:\n",
    "    info_lang[lang]['B'] = best_B\n",
    "\n",
    "print(f'Best lambda: {best_hyper} with F1 score: {best_f1_score}')"
   ]
  },
  {
   "cell_type": "markdown",
   "metadata": {},
   "source": [
    "## 9. TRAIN PROBABILITIES\n",
    "CALCULATE THE PROBABILITIES FOR EACH TRIGRAM THAT APPEARS IN THE TRAIN FOR EACH LANGUAGE"
   ]
  },
  {
   "cell_type": "code",
   "execution_count": 36,
   "metadata": {},
   "outputs": [],
   "source": [
    "# Calculate the prbability dictionary with the best lambda\n",
    "\n",
    "trigram_LID = create_probability_dict(train_data, best_lambda)"
   ]
  },
  {
   "cell_type": "markdown",
   "metadata": {},
   "source": [
    "EXAMPLE OF PREDICTING THE LANGUAGE OF A SENTENCE"
   ]
  },
  {
   "cell_type": "code",
   "execution_count": 37,
   "metadata": {},
   "outputs": [
    {
     "name": "stdout",
     "output_type": "stream",
     "text": [
      "({'deu': 0.49692681695880625, 'eng': 0.2994069999873196, 'fra': 0.2229561662185842, 'ita': 0.0, 'nld': 1.0, 'spa': 0.09044880193587693}, 'nld')\n"
     ]
    }
   ],
   "source": [
    "# Example usage of the predict_language function\n",
    "\n",
    "text = 'Aan de achterzijde van de Hermitage Amsterdam liggen aan Nieuwe Herengracht de monumentale huizen: Het Corvershof'\n",
    "\n",
    "print(predict_language(text, trigram_LID, best_lambda))"
   ]
  },
  {
   "cell_type": "markdown",
   "metadata": {},
   "source": [
    "## 10. EVALUATE FINAL RESULTS"
   ]
  },
  {
   "cell_type": "code",
   "execution_count": 38,
   "metadata": {},
   "outputs": [
    {
     "name": "stdout",
     "output_type": "stream",
     "text": [
      "Misclassified sentence: 1963\tLes Anderlechtois devront avant tout museler Ruud Van Nistelrooy.\n",
      "Predicted language: nld\n",
      "Actual language: fra\n",
      "---\n",
      "Misclassified sentence: 2871\tSalle Wilfrid-Pelletier, vendredi 26 mars 2010.\n",
      "Predicted language: deu\n",
      "Actual language: fra\n",
      "---\n",
      "Misclassified sentence: 3736\tBert van Marwijk ne sourit pas toujours.\n",
      "Predicted language: nld\n",
      "Actual language: fra\n",
      "---\n",
      "Misclassified sentence: 4133\t'Non non, il dit.\n",
      "Predicted language: ita\n",
      "Actual language: fra\n",
      "---\n",
      "Misclassified sentence: 5526\tEncore une star addict de Twiiter!\n",
      "Predicted language: eng\n",
      "Actual language: fra\n",
      "---\n",
      "Misclassified sentence: 7526\tHerman Van Rompuy Bart De Wever : Ne traîne pas trop, zeg.\n",
      "Predicted language: nld\n",
      "Actual language: fra\n",
      "---\n",
      "Misclassified sentence: 8115\tBen faut cracher, sinon passe ton chemin Wenger!\n",
      "Predicted language: eng\n",
      "Actual language: fra\n",
      "---\n",
      "Misclassified sentence: 8129\tIngenico: retenu par Best Buy en Turquie.\n",
      "Predicted language: spa\n",
      "Actual language: fra\n",
      "---\n",
      "Misclassified sentence: 8135\tEnzo Bricolo (page perso, ) le 03/04/2010 à 20:47.\n",
      "Predicted language: ita\n",
      "Actual language: fra\n",
      "---\n",
      "Misclassified sentence: 8259\tWolseley: Morgan Stanley relève son objectif de cours.\n",
      "Predicted language: eng\n",
      "Actual language: fra\n",
      "---\n",
      "Misclassified sentence: 9162\tIl est disponible sous divers OS : Linux (la distribution ITLinux, comprenant Firefox 3.6), Windows Embedded CE (Internet Explorer 6) et Windows Embedded Standard (Internet Explorer 8).\n",
      "Predicted language: eng\n",
      "Actual language: fra\n",
      "---\n",
      "Misclassified sentence: 9640\tActueIlement, il enseigne à la City University of New York et collabore au webzine The Daily Beast.\n",
      "Predicted language: eng\n",
      "Actual language: fra\n",
      "---\n",
      "Misclassified sentence: 619\tBiografie Paulina is de dochter van Enrique Rubio en actrice Susana Dosamantes.\n",
      "Predicted language: spa\n",
      "Actual language: nld\n",
      "---\n",
      "Misclassified sentence: 621\tBiografie Shaul Mofaz werd in 1948 in Teheran geboren als Shahram Mofazzez Zadeh.\n",
      "Predicted language: deu\n",
      "Actual language: nld\n",
      "---\n",
      "Misclassified sentence: 683\tBreckenridge speelde in andere films, zoals Loving Annabelle, Let Them Chirp Awhile, The Favor, Beautiful Loser, en Amusement uit 2008 als Shelby Leds.\n",
      "Predicted language: eng\n",
      "Actual language: nld\n",
      "---\n",
      "Misclassified sentence: 1454\tDe familie woonde in Married Quaters op Ridout Row, Royal Military College of Canada.\n",
      "Predicted language: eng\n",
      "Actual language: nld\n",
      "---\n",
      "Misclassified sentence: 2336\tDe term werd bedacht door Anthony Downs in An Economic Theory of Democracy uit 1957.\n",
      "Predicted language: eng\n",
      "Actual language: nld\n",
      "---\n",
      "Misclassified sentence: 2417\tDe verenigingen gingen verder onder de naam Verband Deutscher Verkehrsunternehmen (VDV).\n",
      "Predicted language: deu\n",
      "Actual language: nld\n",
      "---\n",
      "Misclassified sentence: 2459\tDe volgende frazioni maken deel uit van de gemeente: Anzio Colonia, Marechiaro, Cincinnato, Falasche, Villa Claudia, Lavinio Stazione, Lavinio Mare, Padiglione, Lido dei Pini.\n",
      "Predicted language: ita\n",
      "Actual language: nld\n",
      "---\n",
      "Misclassified sentence: 2460\tDe volgende frazioni maken deel uit van de gemeente: Bagnolo, Vignola, Rontagnano, Strigara, Montegelli, Ponte Uso, Ponte Rosso, Montetiffi, S.Maria Riopetra, Bivio Montegelli.\n",
      "Predicted language: ita\n",
      "Actual language: nld\n",
      "---\n",
      "Misclassified sentence: 2461\tDe volgende frazioni maken deel uit van de gemeente: Cerreto Ratti, Castel Ratti, Molo Borbera, Monteggio, Persi, Sorli.\n",
      "Predicted language: ita\n",
      "Actual language: nld\n",
      "---\n",
      "Misclassified sentence: 2925\tDit betreft de namen A, B, C, Süd, Nord en Mitte.\n",
      "Predicted language: deu\n",
      "Actual language: nld\n",
      "---\n",
      "Misclassified sentence: 4044\tHerbstmühle telt inwoners.\n",
      "Predicted language: deu\n",
      "Actual language: nld\n",
      "---\n",
      "Misclassified sentence: 4204\tHet duo werd The World's Greatest Tag Team \".\n",
      "Predicted language: eng\n",
      "Actual language: nld\n",
      "---\n",
      "Misclassified sentence: 4574\tHet spel heeft vier modi: Exhibition, Tournament, Playoffs en League.\n",
      "Predicted language: eng\n",
      "Actual language: nld\n",
      "---\n",
      "Misclassified sentence: 4821\tHierna nam de modeltreinenfabrikant Märklin LGB op 26 juli 2007 over.\n",
      "Predicted language: deu\n",
      "Actual language: nld\n",
      "---\n",
      "Misclassified sentence: 5600\tIn 1999 ging Midnet op in Connexxion.\n",
      "Predicted language: eng\n",
      "Actual language: nld\n",
      "---\n",
      "Misclassified sentence: 6555\tLevensloop Jean-François Lafontaine was een zoon van Jean-François-Michel Lafontaine en van Anne-Matrie Haquenne.\n",
      "Predicted language: fra\n",
      "Actual language: nld\n",
      "---\n",
      "Misclassified sentence: 6613\tLüttchendorf telt 654 inwoners.\n",
      "Predicted language: deu\n",
      "Actual language: nld\n",
      "---\n",
      "Misclassified sentence: 6701\tMcGilligan (1999) Over haar leven met Eastwood schreef Locke de memoir The Good, the Bad, and the Very Ugly.\n",
      "Predicted language: eng\n",
      "Actual language: nld\n",
      "---\n",
      "Misclassified sentence: 7412\tOok als (mede-)auteur van boeken is hij bekend, zoals Contemporary Composers on Contemporary Music anthology, Music since 1945, Electronic Music: A Listener's Guide, The Symphonies of Ralph Vaughan Williams en Music: Ways of Listening.\n",
      "Predicted language: eng\n",
      "Actual language: nld\n",
      "---\n",
      "Misclassified sentence: 8174\tRond 1980 en 1990 trad hij op in Wish You Were Here (1987), Peter Greenaway 's Prospero's Books, Swing en in 1990 de film The Krays.\n",
      "Predicted language: eng\n",
      "Actual language: nld\n",
      "---\n",
      "Misclassified sentence: 8195\tRudi Paret: Der Koran, 10e editie, Kohlhammer, Stuttgart 2007, pag. 424: Wee hen die anderen tekort doen.\n",
      "Predicted language: deu\n",
      "Actual language: nld\n",
      "---\n",
      "Misclassified sentence: 9989\tZumholz telt inwoners.\n",
      "Predicted language: deu\n",
      "Actual language: nld\n",
      "---\n",
      "Misclassified sentence: 1294\tBildergalerie teilen Der Donkervoort D8 GTO ist ja per se nicht gerade ein Warmduscher-Auto.\n",
      "Predicted language: nld\n",
      "Actual language: deu\n",
      "---\n",
      "Misclassified sentence: 2860\tDer Stoffbeutel war leer.\n",
      "Predicted language: nld\n",
      "Actual language: deu\n",
      "---\n",
      "Misclassified sentence: 5592\tHij was de leider van de groep in de provincie Khorasan van de Islamitische Staat.\n",
      "Predicted language: nld\n",
      "Actual language: deu\n",
      "---\n",
      "Misclassified sentence: 6275\tIst das Land bald insolvent?\n",
      "Predicted language: eng\n",
      "Actual language: deu\n",
      "---\n",
      "Misclassified sentence: 6307\tJarJarThomas 28. Jan 2015 Theorethisch ist es simpel.\n",
      "Predicted language: eng\n",
      "Actual language: deu\n",
      "---\n",
      "Misclassified sentence: 6459\tKinder werden von FairPlay-Liga profitieren.\n",
      "Predicted language: nld\n",
      "Actual language: deu\n",
      "---\n",
      "Misclassified sentence: 9214\tWas ist WICOP2?\n",
      "Predicted language: eng\n",
      "Actual language: deu\n",
      "---\n",
      "Misclassified sentence: 9238\tWat er nu gebeurt, is heel zwaar voor hem als jonge gast.\n",
      "Predicted language: nld\n",
      "Actual language: deu\n",
      "---\n",
      "Misclassified sentence: 2830\tTorre de control responde negativamente.\n",
      "Predicted language: ita\n",
      "Actual language: spa\n",
      "---\n",
      "Misclassified sentence: 3920\tDel Beagle no he escrito nada.\n",
      "Predicted language: ita\n",
      "Actual language: spa\n",
      "---\n",
      "Misclassified sentence: 5422\tAll Nippon Airways recibe el primer Boeing 787 Dreamliner Tokio (EFE).\n",
      "Predicted language: eng\n",
      "Actual language: spa\n",
      "---\n",
      "Misclassified sentence: 6361\tAmy Winehouse, su vida en imágenes FOTOS - SHAUN CURRY (AFP) - 23-07-2011 Muere Amy Winehouse.\n",
      "Predicted language: eng\n",
      "Actual language: spa\n",
      "---\n",
      "Misclassified sentence: 8154\tPhilip Smith Says: December 30th, 2011 at 2:45 pm Hola, soy productor habitual de cerveza artesanal.\n",
      "Predicted language: eng\n",
      "Actual language: spa\n",
      "---\n",
      "Misclassified sentence: 8260\tExplique brevemente por qué.\n",
      "Predicted language: fra\n",
      "Actual language: spa\n",
      "---\n",
      "Misclassified sentence: 8660\tPero no solo eso.\n",
      "Predicted language: ita\n",
      "Actual language: spa\n",
      "---\n",
      "Misclassified sentence: 104\tSACHSENRING - Passo indietro per Marco Melandri al Sachsenring.\n",
      "Predicted language: deu\n",
      "Actual language: ita\n",
      "---\n",
      "Misclassified sentence: 349\tChampions o Europa League?\n",
      "Predicted language: fra\n",
      "Actual language: ita\n",
      "---\n",
      "Misclassified sentence: 1622\tPremi alla carriera a Brian Yuzna e Robert Englund.\n",
      "Predicted language: spa\n",
      "Actual language: ita\n",
      "---\n",
      "Misclassified sentence: 2073\tAnche Air France, KLM, Thai Airways, EasyJet e Ryanair hanno oggi cancellato i voli.\n",
      "Predicted language: eng\n",
      "Actual language: ita\n",
      "---\n",
      "Misclassified sentence: 2154\tDurante la 15.a tappa del Tour de France, Saint Girons-Crête du Lys, perde la vita Fabio Casartelli.\n",
      "Predicted language: fra\n",
      "Actual language: ita\n",
      "---\n",
      "Misclassified sentence: 4325\tTra queste Credit Suisse segnala Brystol e Myers Squibb.\n",
      "Predicted language: fra\n",
      "Actual language: ita\n",
      "---\n",
      "Misclassified sentence: 4612\tChelsea - West Bromwich 6-0. Domenica: Liverpool - Arsenal ore 17; Lunedì: Manchester Utd - Newcastle ore 21.\n",
      "Predicted language: eng\n",
      "Actual language: ita\n",
      "---\n",
      "Misclassified sentence: 5152\tArriva Alvaro Gonzalez, ennesimo talento made in Uruguay.\n",
      "Predicted language: spa\n",
      "Actual language: ita\n",
      "---\n",
      "Misclassified sentence: 5207\tWall Street in deciso rosso.\n",
      "Predicted language: eng\n",
      "Actual language: ita\n",
      "---\n",
      "Misclassified sentence: 6742\tAnne Hathaway \"mostra tutto\".\n",
      "Predicted language: eng\n",
      "Actual language: ita\n",
      "---\n",
      "Misclassified sentence: 6849\tNaughty Bear, ecco le modalità multiplayer!\n",
      "Predicted language: eng\n",
      "Actual language: ita\n",
      "---\n",
      "Misclassified sentence: 7350\tNon sono le madri dei desaparecidos a protestare nella Plaza de Mayo a Buenos Ayres, ma i veterani della guerra delle Falkland.\n",
      "Predicted language: spa\n",
      "Actual language: ita\n",
      "---\n",
      "Misclassified sentence: 8075\t\"Dal Sud\", dice.\n",
      "Predicted language: spa\n",
      "Actual language: ita\n",
      "---\n",
      "Misclassified sentence: 8326\tRoger Waters: anche in Europa 'The wall' dei Pink Floyd?\n",
      "Predicted language: eng\n",
      "Actual language: ita\n",
      "---\n",
      "Misclassified sentence: 3761\tInternet trouble.\n",
      "Predicted language: fra\n",
      "Actual language: eng\n",
      "---\n",
      "Misclassified sentence: 9134\tVancouver head coach Willie Desjardins.\n",
      "Predicted language: nld\n",
      "Actual language: eng\n",
      "---\n",
      "Accuracy: 0.998916251229638\n",
      "Precision: [0.9989992  0.99740286 0.99939964 0.99919952 0.99909883 0.99939994]\n",
      "F1 score: 0.9989162728065941\n"
     ]
    },
    {
     "data": {
      "image/png": "[encoded data removed]",
      "text/plain": [
       "<Figure size 800x600 with 2 Axes>"
      ]
     },
     "metadata": {},
     "output_type": "display_data"
    }
   ],
   "source": [
    "# Predicctions for the test data and calculation of the accuracy and the confusion matrix\n",
    "\n",
    "\n",
    "accuracy, precision, f1, conf_matrix = evaluate_results(X_test, y_test, trigram_LID, best_lambda, show_missclassified=True)\n",
    "\n",
    "\n",
    "print(f'Accuracy: {accuracy}')\n",
    "print(f'Precision: {precision}')\n",
    "print(f'F1 score: {f1}')\n",
    "\n",
    "# Define the class labels\n",
    "classes = np.unique(y_test)\n",
    "\n",
    "\n",
    "# Plot the confusion matrix\n",
    "plt.figure(figsize=(8, 6))\n",
    "sns.set(font_scale=1.2)\n",
    "sns.heatmap(conf_matrix, annot=True, annot_kws={\"size\": 12}, cmap=\"Blues\", fmt=\".2f\", xticklabels=classes, yticklabels=classes)\n",
    "plt.xlabel('Predicted Label')\n",
    "plt.ylabel('True Label')\n",
    "plt.title('Confusion Matrix')\n",
    "plt.show()"
   ]
  },
  {
   "cell_type": "markdown",
   "metadata": {},
   "source": [
    "## EXTRA: MULTINOMIAL NAIVE BAYES MODEL"
   ]
  },
  {
   "cell_type": "code",
   "execution_count": 39,
   "metadata": {},
   "outputs": [],
   "source": [
    "from sklearn.feature_extraction.text import CountVectorizer\n",
    "from sklearn.naive_bayes import MultinomialNB"
   ]
  },
  {
   "cell_type": "code",
   "execution_count": 40,
   "metadata": {},
   "outputs": [],
   "source": [
    "# Function to load the training data from the files\n",
    "\n",
    "def load_data_train(filenames):\n",
    "    texts = []\n",
    "    labels = []\n",
    "    for file in filenames:\n",
    "        with open(file, 'r', encoding='utf-8') as f:\n",
    "            text = preprocess_text(f.read())\n",
    "            trigrams = create_trigrams(text)\n",
    "            texts.append(' '.join(trigrams))\n",
    "            labels.append(os.path.basename(file).split('_')[0])\n",
    "    return texts, labels"
   ]
  },
  {
   "cell_type": "code",
   "execution_count": 41,
   "metadata": {},
   "outputs": [],
   "source": [
    "# Function to load the test data from the files\n",
    "\n",
    "def load_data_test(filenames):\n",
    "    texts = []\n",
    "    labels = []\n",
    "    for file in filenames:\n",
    "        label = os.path.basename(file).split('_')[0]  # The tag is the first part of the filename\n",
    "        with open(file, 'r', encoding='utf-8') as f:\n",
    "            for line in f:\n",
    "                text = preprocess_text(line.strip())  # Preprocess each line\n",
    "                if text:  # If the line is not empty\n",
    "                    trigrams = create_trigrams(text)\n",
    "                    trigram_text = ' '.join(trigrams)  # Convert the trigrams to a single string\n",
    "                    texts.append(trigram_text)\n",
    "                    labels.append(label)\n",
    "    return texts, labels"
   ]
  },
  {
   "cell_type": "code",
   "execution_count": 23,
   "metadata": {},
   "outputs": [],
   "source": [
    "# Function to filter the infrequent trigrams (appear less than 5 times in a language)\n",
    "\n",
    "def filter_infrequent_trigrams(texts):\n",
    "    trigram_counts = Counter(' '.join(texts).split()) \n",
    "    frequent_trigrams = {trigram for trigram, count in trigram_counts.items() if count >= 5}\n",
    "    filtered_texts = [' '.join([trigram for trigram in text.split() if trigram in frequent_trigrams]) for text in texts]\n",
    "    return filtered_texts"
   ]
  },
  {
   "cell_type": "code",
   "execution_count": 42,
   "metadata": {},
   "outputs": [],
   "source": [
    "# Load the training and test data\n",
    "\n",
    "train_files = glob.glob('langId/*_trn.txt')\n",
    "test_files = glob.glob('langId/*_tst.txt')\n",
    "X_train, y_train = load_data_train(train_files)\n",
    "X_test, y_test = load_data_test(test_files)\n",
    "\n",
    "X_train_filtered = filter_infrequent_trigrams(X_train)"
   ]
  },
  {
   "cell_type": "code",
   "execution_count": 43,
   "metadata": {},
   "outputs": [],
   "source": [
    "# Vectorize the training and test data\n",
    "\n",
    "vectorizer = CountVectorizer()\n",
    "X_train_vect = vectorizer.fit_transform(X_train_filtered)\n",
    "X_test_vect = vectorizer.transform(X_test)"
   ]
  },
  {
   "cell_type": "markdown",
   "metadata": {},
   "source": [
    "### TRAINING THE MODEL"
   ]
  },
  {
   "cell_type": "code",
   "execution_count": 44,
   "metadata": {},
   "outputs": [
    {
     "data": {
      "text/html": [
       "<style>#sk-container-id-1 {color: black;}#sk-container-id-1 pre{padding: 0;}#sk-container-id-1 div.sk-toggleable {background-color: white;}#sk-container-id-1 label.sk-toggleable__label {cursor: pointer;display: block;width: 100%;margin-bottom: 0;padding: 0.3em;box-sizing: border-box;text-align: center;}#sk-container-id-1 label.sk-toggleable__label-arrow:before {content: \"▸\";float: left;margin-right: 0.25em;color: #696969;}#sk-container-id-1 label.sk-toggleable__label-arrow:hover:before {color: black;}#sk-container-id-1 div.sk-estimator:hover label.sk-toggleable__label-arrow:before {color: black;}#sk-container-id-1 div.sk-toggleable__content {max-height: 0;max-width: 0;overflow: hidden;text-align: left;background-color: #f0f8ff;}#sk-container-id-1 div.sk-toggleable__content pre {margin: 0.2em;color: black;border-radius: 0.25em;background-color: #f0f8ff;}#sk-container-id-1 input.sk-toggleable__control:checked~div.sk-toggleable__content {max-height: 200px;max-width: 100%;overflow: auto;}#sk-container-id-1 input.sk-toggleable__control:checked~label.sk-toggleable__label-arrow:before {content: \"▾\";}#sk-container-id-1 div.sk-estimator input.sk-toggleable__control:checked~label.sk-toggleable__label {background-color: #d4ebff;}#sk-container-id-1 div.sk-label input.sk-toggleable__control:checked~label.sk-toggleable__label {background-color: #d4ebff;}#sk-container-id-1 input.sk-hidden--visually {border: 0;clip: rect(1px 1px 1px 1px);clip: rect(1px, 1px, 1px, 1px);height: 1px;margin: -1px;overflow: hidden;padding: 0;position: absolute;width: 1px;}#sk-container-id-1 div.sk-estimator {font-family: monospace;background-color: #f0f8ff;border: 1px dotted black;border-radius: 0.25em;box-sizing: border-box;margin-bottom: 0.5em;}#sk-container-id-1 div.sk-estimator:hover {background-color: #d4ebff;}#sk-container-id-1 div.sk-parallel-item::after {content: \"\";width: 100%;border-bottom: 1px solid gray;flex-grow: 1;}#sk-container-id-1 div.sk-label:hover label.sk-toggleable__label {background-color: #d4ebff;}#sk-container-id-1 div.sk-serial::before {content: \"\";position: absolute;border-left: 1px solid gray;box-sizing: border-box;top: 0;bottom: 0;left: 50%;z-index: 0;}#sk-container-id-1 div.sk-serial {display: flex;flex-direction: column;align-items: center;background-color: white;padding-right: 0.2em;padding-left: 0.2em;position: relative;}#sk-container-id-1 div.sk-item {position: relative;z-index: 1;}#sk-container-id-1 div.sk-parallel {display: flex;align-items: stretch;justify-content: center;background-color: white;position: relative;}#sk-container-id-1 div.sk-item::before, #sk-container-id-1 div.sk-parallel-item::before {content: \"\";position: absolute;border-left: 1px solid gray;box-sizing: border-box;top: 0;bottom: 0;left: 50%;z-index: -1;}#sk-container-id-1 div.sk-parallel-item {display: flex;flex-direction: column;z-index: 1;position: relative;background-color: white;}#sk-container-id-1 div.sk-parallel-item:first-child::after {align-self: flex-end;width: 50%;}#sk-container-id-1 div.sk-parallel-item:last-child::after {align-self: flex-start;width: 50%;}#sk-container-id-1 div.sk-parallel-item:only-child::after {width: 0;}#sk-container-id-1 div.sk-dashed-wrapped {border: 1px dashed gray;margin: 0 0.4em 0.5em 0.4em;box-sizing: border-box;padding-bottom: 0.4em;background-color: white;}#sk-container-id-1 div.sk-label label {font-family: monospace;font-weight: bold;display: inline-block;line-height: 1.2em;}#sk-container-id-1 div.sk-label-container {text-align: center;}#sk-container-id-1 div.sk-container {/* jupyter's `normalize.less` sets `[hidden] { display: none; }` but bootstrap.min.css set `[hidden] { display: none !important; }` so we also need the `!important` here to be able to override the default hidden behavior on the sphinx rendered scikit-learn.org. See: https://github.com/scikit-learn/scikit-learn/issues/21755 */display: inline-block !important;position: relative;}#sk-container-id-1 div.sk-text-repr-fallback {display: none;}</style><div id=\"sk-container-id-1\" class=\"sk-top-container\"><div class=\"sk-text-repr-fallback\"><pre>MultinomialNB(alpha=0.5)</pre><b>In a Jupyter environment, please rerun this cell to show the HTML representation or trust the notebook. <br />On GitHub, the HTML representation is unable to render, please try loading this page with nbviewer.org.</b></div><div class=\"sk-container\" hidden><div class=\"sk-item\"><div class=\"sk-estimator sk-toggleable\"><input class=\"sk-toggleable__control sk-hidden--visually\" id=\"sk-estimator-id-1\" type=\"checkbox\" checked><label for=\"sk-estimator-id-1\" class=\"sk-toggleable__label sk-toggleable__label-arrow\">MultinomialNB</label><div class=\"sk-toggleable__content\"><pre>MultinomialNB(alpha=0.5)</pre></div></div></div></div></div>"
      ],
      "text/plain": [
       "MultinomialNB(alpha=0.5)"
      ]
     },
     "execution_count": 44,
     "metadata": {},
     "output_type": "execute_result"
    }
   ],
   "source": [
    "# Train the Multinomial Naive Bayes model\n",
    "\n",
    "model = MultinomialNB(alpha=0.5)\n",
    "model.fit(X_train_vect, y_train)"
   ]
  },
  {
   "cell_type": "markdown",
   "metadata": {},
   "source": [
    "### EVALUATING THE RESULTS"
   ]
  },
  {
   "cell_type": "code",
   "execution_count": 46,
   "metadata": {},
   "outputs": [
    {
     "name": "stdout",
     "output_type": "stream",
     "text": [
      "Accuracy: 0.9978158294012704\n",
      "Precision: [0.99879844 0.99521149 0.99869831 0.99829676 0.9979984  0.99790126]\n",
      "f1-score: 0.9978160033016766\n"
     ]
    },
    {
     "data": {
      "image/png": "[encoded data removed]",
      "text/plain": [
       "<Figure size 800x600 with 2 Axes>"
      ]
     },
     "metadata": {},
     "output_type": "display_data"
    }
   ],
   "source": [
    "# Evaluate the model\n",
    "\n",
    "y_pred = model.predict(X_test_vect)\n",
    "accuracy = accuracy_score(y_test, y_pred)\n",
    "precision = precision_score(y_test, y_pred, average=None)\n",
    "f1 = f1_score(y_test, y_pred, average='weighted')\n",
    "conf_matrix = confusion_matrix(y_test, y_pred)\n",
    "\n",
    "print(f'Accuracy: {accuracy}')\n",
    "print(f'Precision: {precision}')\n",
    "print(f'f1-score: {f1}')\n",
    "\n",
    "plt.figure(figsize=(8, 6))\n",
    "sns.set(font_scale=1.2)\n",
    "sns.heatmap(conf_matrix, annot=True, annot_kws={\"size\": 12}, cmap=\"Blues\", fmt=\".2f\", xticklabels=classes, yticklabels=classes)\n",
    "plt.xlabel('Predicted Label')\n",
    "plt.ylabel('True Label')\n",
    "plt.title('Confusion Matrix')\n",
    "plt.show()"
   ]
  }
 ],
 "metadata": {
  "kernelspec": {
   "display_name": "Python 3",
   "language": "python",
   "name": "python3"
  },
  "language_info": {
   "codemirror_mode": {
    "name": "ipython",
    "version": 3
   },
   "file_extension": ".py",
   "mimetype": "text/x-python",
   "name": "python",
   "nbconvert_exporter": "python",
   "pygments_lexer": "ipython3",
   "version": "3.10.6"
  }
 },
 "nbformat": 4,
 "nbformat_minor": 2
}
