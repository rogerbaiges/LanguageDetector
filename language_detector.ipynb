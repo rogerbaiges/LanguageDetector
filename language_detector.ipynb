{
 "cells": [
  {
   "cell_type": "markdown",
   "metadata": {},
   "source": [
    "# Pràctica 1: Identificació d'idioma"
   ]
  },
  {
   "cell_type": "code",
   "execution_count": 1,
   "metadata": {},
   "outputs": [],
   "source": [
    "import re\n",
    "import os\n",
    "import glob\n",
    "from collections import Counter\n",
    "from sklearn.metrics import accuracy_score, confusion_matrix, f1_score, precision_score\n",
    "from nltk import ngrams\n",
    "import matplotlib.pyplot as plt\n",
    "import seaborn as sns\n",
    "from sklearn.metrics import confusion_matrix\n",
    "import numpy as np"
   ]
  },
  {
   "cell_type": "markdown",
   "metadata": {},
   "source": [
    "## 1. Preprocessing"
   ]
  },
  {
   "cell_type": "markdown",
   "metadata": {},
   "source": [
    "Creem funcions per carregar les nostres dades i preprocessar-les tal com se'ns demana."
   ]
  },
  {
   "cell_type": "code",
   "execution_count": 2,
   "metadata": {},
   "outputs": [],
   "source": [
    "def preprocess_text(text):\n",
    "    text = re.sub(r'\\d+', '', text)  # Elimina los dígitos\n",
    "    text = text.lower()  # Convierte a minúsculas\n",
    "    text = re.sub(r'\\s+', ' ', text)  # Reemplaza espacios múltiples por uno solo\n",
    "    text = re.sub(r'\\n', '  ', text)  # Espai doble entre frases    \n",
    "    return text"
   ]
  },
  {
   "cell_type": "code",
   "execution_count": 3,
   "metadata": {},
   "outputs": [],
   "source": [
    "def create_trigrams(text):\n",
    "    characters = [char for char in text]\n",
    "    return [''.join(trigram) for trigram in ngrams(characters, 3) if len(trigram) == 3]"
   ]
  },
  {
   "cell_type": "code",
   "execution_count": 4,
   "metadata": {},
   "outputs": [],
   "source": [
    "def filter_infrequent_trigrams(texts):\n",
    "    trigram_counts = Counter(' '.join(texts).split()) \n",
    "    frequent_trigrams = {trigram for trigram, count in trigram_counts.items() if count >= 5}\n",
    "    filtered_texts = [' '.join([trigram for trigram in text.split() if trigram in frequent_trigrams]) for text in texts]\n",
    "    return filtered_texts"
   ]
  },
  {
   "cell_type": "markdown",
   "metadata": {},
   "source": [
    "## 2. Creació dels models"
   ]
  },
  {
   "cell_type": "markdown",
   "metadata": {},
   "source": [
    "### 2.1. Llei de Lidstone (LID)"
   ]
  },
  {
   "cell_type": "code",
   "execution_count": 5,
   "metadata": {},
   "outputs": [],
   "source": [
    "import random\n",
    "\n",
    "def load_data_train_val(filenames):\n",
    "    train_data = {}\n",
    "    val_data = {}\n",
    "\n",
    "    for file in filenames:\n",
    "        with open(file, 'r', encoding='utf-8') as f:\n",
    "            text = preprocess_text(f.read())\n",
    "            trigrams = create_trigrams(text)\n",
    "            filename = os.path.basename(file).split('_')[0]\n",
    "            \n",
    "            train_data[filename] = trigrams.copy()\n",
    "            # Separar aleatoriamente el 30% de los trigramas para validación\n",
    "            random.shuffle(trigrams)\n",
    "            split_index = int(len(trigrams) * 0.7)\n",
    "            val_trigrams = trigrams[:split_index]\n",
    "            val_data[filename] = val_trigrams\n",
    "\n",
    "    return train_data, val_data\n",
    "\n",
    "# Function to load the test data from the files\n",
    "\n",
    "def load_data_test(filenames):\n",
    "    texts = []\n",
    "    labels = []\n",
    "    for file in filenames:\n",
    "        label = os.path.basename(file).split('_')[0]  # The tag is the first part of the filename\n",
    "        with open(file, 'r', encoding='utf-8') as f:\n",
    "            for line in f:\n",
    "                texts.append(line.strip())\n",
    "                labels.append(label)\n",
    "    return texts, labels\n"
   ]
  },
  {
   "cell_type": "code",
   "execution_count": 6,
   "metadata": {},
   "outputs": [],
   "source": [
    "# Carreguem les dades\n",
    "train_files = glob.glob('langId/*_trn.txt')\n",
    "test_files = glob.glob('langId/*_tst.txt')\n",
    "\n",
    "# Preprocessem les dades\n",
    "train_data, val_data = load_data_train_val(train_files)\n",
    "X_test, y_test = load_data_test(test_files)"
   ]
  },
  {
   "cell_type": "code",
   "execution_count": 7,
   "metadata": {},
   "outputs": [],
   "source": [
    "def filter_infrequent_trigramsDICT(list_trigrams):\n",
    "    # Contar la frecuencia de cada trigram en la lista\n",
    "    trigram_counts = Counter(list_trigrams)\n",
    "    \n",
    "    # Seleccionar los trigramas que aparecen al menos 5 veces\n",
    "    frequent_trigrams = {trigram for trigram, count in trigram_counts.items() if count >= 5}\n",
    "    \n",
    "    # Filtrar la lista de trigramas para incluir solo los trigramas frecuentes\n",
    "    filtered_list_trigrams = [trigram for trigram in list_trigrams if trigram in frequent_trigrams]\n",
    "    \n",
    "    return filtered_list_trigrams\n"
   ]
  },
  {
   "cell_type": "code",
   "execution_count": 8,
   "metadata": {},
   "outputs": [],
   "source": [
    "for key in train_data:\n",
    "    # aplicar filter_infrequent_trigrams al valor de cada key\n",
    "    train_data[key] = filter_infrequent_trigramsDICT(train_data[key])\n",
    "    val_data[key] = filter_infrequent_trigramsDICT(val_data[key])"
   ]
  },
  {
   "cell_type": "code",
   "execution_count": 9,
   "metadata": {},
   "outputs": [],
   "source": [
    "# Funció que retorna el nombre de trigrames que apareixen en una llista de trigrames\n",
    "def count_trigrams(trigram, list_trigrams):\n",
    "    freq_trigram = {}\n",
    "    for t in list_trigrams:\n",
    "        freq_trigram[t] = freq_trigram.get(t, 0) + 1\n",
    "    return freq_trigram.get(trigram, 0)\n",
    "\n",
    "# Fem un diccionari que, per a cada idioma, conté la seva variable B i NT\n",
    "info_lang = {}\n",
    "for lang, trigrams in train_data.items():\n",
    "    NT = len(trigrams)\n",
    "    B = 30**3 # editar B per a cada idioma\n",
    "    info_lang[lang] = {'NT': NT, 'B': B}"
   ]
  },
  {
   "cell_type": "code",
   "execution_count": 10,
   "metadata": {},
   "outputs": [],
   "source": [
    "# Funció LID\n",
    "\n",
    "def LID(count_trigram, NT, B, lam=0.5):\n",
    "    result_LID = np.log((count_trigram + lam) / (NT + lam * B))\n",
    "    return result_LID\n"
   ]
  },
  {
   "cell_type": "code",
   "execution_count": 11,
   "metadata": {},
   "outputs": [],
   "source": [
    "# Funció de normalització de valors entre 0 i 1\n",
    "def min_max_normalization(data):\n",
    "    min_val = min(data.values())\n",
    "    max_val = max(data.values())\n",
    "    normalized_data = {}\n",
    "\n",
    "    for key, value in data.items():\n",
    "        normalized_value = (value - min_val) / (max_val - min_val)\n",
    "        normalized_data[key] = normalized_value\n",
    "\n",
    "    return normalized_data"
   ]
  },
  {
   "cell_type": "code",
   "execution_count": 12,
   "metadata": {},
   "outputs": [],
   "source": [
    "def create_probability_dict(data, lam=0.5):\n",
    "\n",
    "    trigram_counts = {}  # Creamos un diccionario vacío para almacenar los recuentos de trigramas\n",
    "\n",
    "    # Iteramos sobre cada par (lang, trigrams) en los datos de entrenamiento\n",
    "    for lang, lang_trigrams in data.items():\n",
    "        # Iteramos sobre cada trigram en la lista de trigramas del idioma actual\n",
    "        for trigram in lang_trigrams:\n",
    "            # Si el trigram no está en el diccionario principal, lo agregamos\n",
    "            if trigram not in trigram_counts:\n",
    "                trigram_counts[trigram] = {'deu': 0, 'eng': 0, 'fra': 0, 'ita': 0, 'nld': 0, 'spa': 0}\n",
    "            # Incrementamos el recuento del trigram actual en el idioma actual\n",
    "            trigram_counts[trigram][lang] += 1          \n",
    "\n",
    "    trigram_LID = {}  # Creamos un diccionario vacío para almacenar los LID de trigramas\n",
    "\n",
    "    # Iteramos sobre cada trigram y sus recuentos por idioma en el diccionario de recuentos de trigramas\n",
    "    for trigram, lang_counts in trigram_counts.items():\n",
    "        trigram_lang_LID = {}  # Creamos un diccionario vacío para almacenar los LID de trigramas por idioma\n",
    "        # Iteramos sobre cada idioma y su recuento en los recuentos del trigram actual\n",
    "        for lang, count in lang_counts.items():\n",
    "            # Calculamos el LID de trigramas para el trigram actual en el idioma actual\n",
    "            trigram_lang_LID[lang] = LID(count, info_lang[lang]['NT'], info_lang[lang]['B'], lam)\n",
    "        # Agregamos los LID de trigramas por idioma para el trigram actual al diccionario principal\n",
    "        trigram_LID[trigram] = trigram_lang_LID\n",
    "\n",
    "    return trigram_LID\n"
   ]
  },
  {
   "cell_type": "code",
   "execution_count": 13,
   "metadata": {},
   "outputs": [],
   "source": [
    "# Funció que, donat un text, retorna el LID per a cada idioma: {'idioma1': LID, 'idioma2': LID, ...}. Per fer això, sumem els LID de cada trigrama del text per a cada idioma\n",
    "def predict_language(text, trigram_LID, lam=0.5):\n",
    "    treated_text = preprocess_text(text)  # Preprocessem el text\n",
    "    trigrams_text = create_trigrams(treated_text) # Creem els trigrames del text\n",
    "    LID_per_lang = {}\n",
    "    for trigram in trigrams_text:\n",
    "        if trigram in trigram_LID:\n",
    "            LID_per_lang_trigram = trigram_LID[trigram] # Obtenim el LID per a cada idioma per a cada trigrama\n",
    "\n",
    "        else:\n",
    "            #calculem un LID per a cada idioma amb conteig de 0 en tots els idiomes\n",
    "            LID_per_lang_trigram = {}\n",
    "            for lang in info_lang:\n",
    "                LID_per_lang_trigram[lang] = LID(0, info_lang[lang]['NT'], info_lang[lang]['B'], lam)\n",
    "\n",
    "        for lang, LID_trigram in LID_per_lang_trigram.items(): \n",
    "            LID_per_lang[lang] = LID_per_lang.get(lang, 0) + LID_trigram # Sumem els LID de cada trigrama per a cada idioma\n",
    "    normalized_LID_per_lang = min_max_normalization(LID_per_lang)  # Normalitzem els valors de LID entre 0 i 1\n",
    "    max_language = max(normalized_LID_per_lang, key=normalized_LID_per_lang.get)  # Obtenim l'idioma amb el LID més alt\n",
    "\n",
    "    return normalized_LID_per_lang, max_language"
   ]
  },
  {
   "cell_type": "code",
   "execution_count": 14,
   "metadata": {},
   "outputs": [],
   "source": [
    "def evaluate_results(X_test, y_test, trigram_LID, lam=0.5):\n",
    "    y_pred = []\n",
    "    for sentence in X_test:\n",
    "        _, lang = predict_language(sentence, trigram_LID, lam)\n",
    "        y_pred.append(lang)\n",
    "    accuracy = accuracy_score(y_test, y_pred)\n",
    "    precision = precision_score(y_test, y_pred, average=None)\n",
    "    f1 = f1_score(y_test, y_pred, average='weighted')\n",
    "    conf_matrix = confusion_matrix(y_test, y_pred)\n",
    "    return accuracy, precision, f1, conf_matrix"
   ]
  },
  {
   "cell_type": "markdown",
   "metadata": {},
   "source": [
    "# VALIDATION"
   ]
  },
  {
   "cell_type": "code",
   "execution_count": 15,
   "metadata": {},
   "outputs": [
    {
     "name": "stdout",
     "output_type": "stream",
     "text": [
      "Best lambda: (1, 35937) with F1 score: 0.9989162728065941\n"
     ]
    }
   ],
   "source": [
    "lambdas = [0.1, 0.3, 0.5, 0.7, 1]\n",
    "Bs = [25**3, 26**3, 27**3, 30**3, 33**3]\n",
    "best_hyper = (lambdas[0], Bs[0])\n",
    "best_f1_score = 0\n",
    "\n",
    "\n",
    "for lam in lambdas:\n",
    "    for B in Bs:\n",
    "        for lang in info_lang:\n",
    "            info_lang[lang]['B'] = B\n",
    "        val_trigram_LID = create_probability_dict(train_data, lam)\n",
    "        accuracy, precision, f1, conf_matrix = evaluate_results(X_test, y_test, val_trigram_LID, lam)\n",
    "        if f1 >= best_f1_score:\n",
    "            best_f1_score = f1\n",
    "            best_hyper = (lam, B)\n",
    "\n",
    "best_lambda = best_hyper[0]\n",
    "best_B = best_hyper[1]\n",
    "\n",
    "for lang in info_lang:\n",
    "    info_lang[lang]['B'] = best_B\n",
    "\n",
    "print(f'Best lambda: {best_hyper} with F1 score: {best_f1_score}')"
   ]
  },
  {
   "cell_type": "markdown",
   "metadata": {},
   "source": [
    "# TRAIN"
   ]
  },
  {
   "cell_type": "code",
   "execution_count": 16,
   "metadata": {},
   "outputs": [],
   "source": [
    "trigram_LID = create_probability_dict(train_data, best_lambda)"
   ]
  },
  {
   "cell_type": "markdown",
   "metadata": {},
   "source": [
    "### EXAMPLE OF PREDICTING THE LANGUAGE OF A SENTENCE"
   ]
  },
  {
   "cell_type": "code",
   "execution_count": 17,
   "metadata": {},
   "outputs": [
    {
     "name": "stdout",
     "output_type": "stream",
     "text": [
      "({'deu': 0.49692681695880625, 'eng': 0.2994069999873196, 'fra': 0.2229561662185842, 'ita': 0.0, 'nld': 1.0, 'spa': 0.09044880193587693}, 'nld')\n"
     ]
    }
   ],
   "source": [
    "#Exemple d'ús de la funció predict_language\n",
    "text = 'Aan de achterzijde van de Hermitage Amsterdam liggen aan Nieuwe Herengracht de monumentale huizen: Het Corvershof'\n",
    "\n",
    "print(predict_language(text, trigram_LID, best_lambda))"
   ]
  },
  {
   "cell_type": "markdown",
   "metadata": {},
   "source": [
    "# EVALUATE FINAL RESULTS"
   ]
  },
  {
   "cell_type": "code",
   "execution_count": 18,
   "metadata": {},
   "outputs": [
    {
     "name": "stdout",
     "output_type": "stream",
     "text": [
      "Accuracy: 0.998916251229638\n",
      "Precision: [0.9989992  0.99740286 0.99939964 0.99919952 0.99909883 0.99939994]\n",
      "F1 score: 0.9989162728065941\n"
     ]
    },
    {
     "data": {
      "image/png": "[encoded data removed]",
      "text/plain": [
       "<Figure size 800x600 with 2 Axes>"
      ]
     },
     "metadata": {},
     "output_type": "display_data"
    }
   ],
   "source": [
    "# Prediccions per a les dades de test i càlcul de l'accuracy i la matriu de confusió\n",
    "\n",
    "\n",
    "accuracy, precision, f1, conf_matrix = evaluate_results(X_test, y_test, trigram_LID, best_lambda)\n",
    "\n",
    "\n",
    "print(f'Accuracy: {accuracy}')\n",
    "print(f'Precision: {precision}')\n",
    "print(f'F1 score: {f1}')\n",
    "\n",
    "# Define las etiquetas de las clases\n",
    "classes = np.unique(y_test)\n",
    "\n",
    "\n",
    "# Grafica la matriz de confusión\n",
    "plt.figure(figsize=(8, 6))\n",
    "sns.set(font_scale=1.2)\n",
    "sns.heatmap(conf_matrix, annot=True, annot_kws={\"size\": 12}, cmap=\"Blues\", fmt=\".2f\", xticklabels=classes, yticklabels=classes)\n",
    "plt.xlabel('Predicted Label')\n",
    "plt.ylabel('True Label')\n",
    "plt.title('Confusion Matrix')\n",
    "plt.show()"
   ]
  }
 ],
 "metadata": {
  "kernelspec": {
   "display_name": "Python 3",
   "language": "python",
   "name": "python3"
  },
  "language_info": {
   "codemirror_mode": {
    "name": "ipython",
    "version": 3
   },
   "file_extension": ".py",
   "mimetype": "text/x-python",
   "name": "python",
   "nbconvert_exporter": "python",
   "pygments_lexer": "ipython3",
   "version": "3.10.6"
  }
 },
 "nbformat": 4,
 "nbformat_minor": 2
}
